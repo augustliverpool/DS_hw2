{
 "cells": [
  {
   "cell_type": "code",
   "execution_count": 12,
   "metadata": {},
   "outputs": [
    {
     "name": "stdout",
     "output_type": "stream",
     "text": [
      "['maria']\n"
     ]
    }
   ],
   "source": [
    "#Question 4\n",
    "def has_experience_as(cvs, job_title):\n",
    "    # Initialize an empty list to store the usernames\n",
    "    users_with_experience = []\n",
    "\n",
    "    # Iterate through each CV in the list\n",
    "    for cv in cvs:\n",
    "        # Check if the job title is in the user's jobs\n",
    "        if job_title in cv['jobs']:\n",
    "            # Add the username to the list\n",
    "            users_with_experience.append(cv['user'])\n",
    "\n",
    "    return users_with_experience\n",
    "\n",
    "# Example usage\n",
    "cvs = [\n",
    "    {'user': 'maria', 'jobs': ['analyst', 'doctor']},\n",
    "    {'user': 'isabel', 'jobs': ['finance', 'biologist']},\n",
    "    {'user': 'george', 'jobs': ['vet', 'judge', 'singer']},\n",
    "    {'user': 'alice', 'jobs': ['engineer', 'designer']}\n",
    "]\n",
    "\n",
    "# Check for users with experience as 'engineer'\n",
    "result = has_experience_as(cvs, 'doctor')\n",
    "print(result)  # Output: ['john', 'alice']"
   ]
  },
  {
   "cell_type": "code",
   "execution_count": 13,
   "metadata": {},
   "outputs": [
    {
     "name": "stdout",
     "output_type": "stream",
     "text": [
      "{'analyst': 1, 'doctor': 1, 'finance': 1, 'biologist': 1, 'vet': 1, 'judge': 1, 'singer': 1, 'engineer': 1, 'designer': 1}\n"
     ]
    }
   ],
   "source": [
    "#Question 5\n",
    "def job_counts(cvs):\n",
    "    # Initialize an empty dictionary to store job counts\n",
    "    job_count_dict = {}\n",
    "\n",
    "    # Iterate through each CV in the list\n",
    "    for cv in cvs:\n",
    "        # Iterate through each job in the user's jobs\n",
    "        for job in cv['jobs']:\n",
    "            # Increment the job count in the dictionary\n",
    "            if job in job_count_dict:\n",
    "                job_count_dict[job] += 1\n",
    "            else:\n",
    "                job_count_dict[job] = 1\n",
    "\n",
    "    return job_count_dict\n",
    "\n",
    "# Example usage\n",
    "cvs = [\n",
    "    {'user': 'maria', 'jobs': ['analyst', 'doctor']},\n",
    "    {'user': 'isabel', 'jobs': ['finance', 'biologist']},\n",
    "    {'user': 'george', 'jobs': ['vet', 'judge', 'singer']},\n",
    "    {'user': 'alice', 'jobs': ['engineer', 'designer']}\n",
    "]\n",
    "\n",
    "# Get job counts that has one parameter list cvs and returns a dictionary where the keys are the job titles and the values are the number of users that have done that job\n",
    "result = job_counts(cvs)\n",
    "print(result)  "
   ]
  },
  {
   "cell_type": "code",
   "execution_count": 14,
   "metadata": {},
   "outputs": [
    {
     "name": "stdout",
     "output_type": "stream",
     "text": [
      "('engineer', 3)\n"
     ]
    }
   ],
   "source": [
    "#Question 6\n",
    "def most_popular_job(cvs):\n",
    "    # Get the job counts using the job_counts function\n",
    "    job_count_dict = job_counts(cvs)\n",
    "\n",
    "    # Find the job with the maximum count\n",
    "    most_popular = max(job_count_dict.items(), key=lambda x: x[1])\n",
    "    \n",
    "    return most_popular  # This will return a tuple (job_title, count)\n",
    "\n",
    "# Example usage\n",
    "cvs = [\n",
    "    {'user': 'maria', 'jobs': ['analyst', 'doctor']},\n",
    "    {'user': 'isabel', 'jobs': ['finance', 'biologist']},\n",
    "    {'user': 'george', 'jobs': ['vet', 'judge', 'singer']},\n",
    "    {'user': 'alice', 'jobs': ['engineer', 'designer']},\n",
    "    {'user': 'bob', 'jobs': ['engineer', 'doctor']},\n",
    "    {'user': 'bob', 'jobs': ['engineer', 'biologist']}\n",
    "]\n",
    "\n",
    "# Get the most popular job\n",
    "result = most_popular_job(cvs)\n",
    "print(result)  # Output might be: ('engineer', 2)"
   ]
  }
 ],
 "metadata": {
  "kernelspec": {
   "display_name": "brushup_env",
   "language": "python",
   "name": "python3"
  },
  "language_info": {
   "codemirror_mode": {
    "name": "ipython",
    "version": 3
   },
   "file_extension": ".py",
   "mimetype": "text/x-python",
   "name": "python",
   "nbconvert_exporter": "python",
   "pygments_lexer": "ipython3",
   "version": "3.12.4"
  }
 },
 "nbformat": 4,
 "nbformat_minor": 2
}
